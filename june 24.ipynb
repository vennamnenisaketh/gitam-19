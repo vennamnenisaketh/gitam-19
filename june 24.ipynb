{
 "cells": [
  {
   "cell_type": "markdown",
   "metadata": {},
   "source": [
    "## factors list of a given numbers"
   ]
  },
  {
   "cell_type": "code",
   "execution_count": 8,
   "metadata": {},
   "outputs": [
    {
     "name": "stdout",
     "output_type": "stream",
     "text": [
      "1 2 3 4 6 "
     ]
    }
   ],
   "source": [
    "def factorlist(n):\n",
    "    i=1;\n",
    "    while(i!=n):\n",
    "        if(n%i==0):\n",
    "            print(i,end= \" \");\n",
    "        i=i+1;\n",
    "    return;\n",
    "    \n",
    "factorlist(12);"
   ]
  },
  {
   "cell_type": "markdown",
   "metadata": {},
   "source": [
    "## print sum of even numbers"
   ]
  },
  {
   "cell_type": "code",
   "execution_count": 3,
   "metadata": {},
   "outputs": [
    {
     "data": {
      "text/plain": [
       "90"
      ]
     },
     "execution_count": 3,
     "metadata": {},
     "output_type": "execute_result"
    }
   ],
   "source": [
    "def printeven(n):\n",
    "    cnt=0;\n",
    "    sum=0;\n",
    "    while(cnt!=n):\n",
    "        if(cnt%2==0):\n",
    "            sum=sum+cnt;\n",
    "        cnt=cnt+1;\n",
    "    return sum;\n",
    "printeven(20)"
   ]
  },
  {
   "cell_type": "markdown",
   "metadata": {},
   "source": [
    "## list in python"
   ]
  },
  {
   "cell_type": "code",
   "execution_count": 4,
   "metadata": {},
   "outputs": [
    {
     "name": "stdout",
     "output_type": "stream",
     "text": [
      "[1, 2, 3, 4, 5]\n",
      "1\n"
     ]
    }
   ],
   "source": [
    "list1=[1,2,3,4,5];\n",
    "#entire list\n",
    "print(list1);\n",
    "#list[0]\n",
    "print(list1[0]);"
   ]
  },
  {
   "cell_type": "code",
   "execution_count": 8,
   "metadata": {},
   "outputs": [
    {
     "name": "stdout",
     "output_type": "stream",
     "text": [
      "saketh samsung uma \n",
      "samsung\n"
     ]
    }
   ],
   "source": [
    "list2=[\"saketh\",\"samsung\",\"uma\"]\n",
    "for x in list2:\n",
    "    print(x,end= \" \");\n",
    "\n",
    "print()    \n",
    "print(list2[1])"
   ]
  },
  {
   "cell_type": "code",
   "execution_count": 10,
   "metadata": {},
   "outputs": [
    {
     "name": "stdout",
     "output_type": "stream",
     "text": [
      "1 2 3 4 5 6 7 8 9 10 \n",
      "[2, 3, 4, 5, 6, 7, 8, 9]\n",
      "[3, 4, 5, 6, 7, 8]\n",
      "[1, 4, 7, 10]\n"
     ]
    }
   ],
   "source": [
    "list1=[1,2,3,4,5,6,7,8,9,10]\n",
    "for x in list1:\n",
    "    print(x,end =\" \")\n",
    "print()\n",
    "print(list1[1:-1]);\n",
    "print(list1[2:-2]);\n",
    "print(list1[::3]);"
   ]
  },
  {
   "cell_type": "markdown",
   "metadata": {},
   "source": [
    "## list with range function"
   ]
  },
  {
   "cell_type": "code",
   "execution_count": 13,
   "metadata": {},
   "outputs": [
    {
     "name": "stdout",
     "output_type": "stream",
     "text": [
      "['saketh', 'samsung', 'uma', 1]\n",
      "['saketh', 'samsung', 'uma']\n",
      "['saketh', 'samsung', 15]\n",
      "['saketh', 'gitam', 15]\n",
      "[1, 2, 3]\n",
      "['saketh', 'gitam', 15, 1, 2, 3]\n"
     ]
    }
   ],
   "source": [
    "list1=[\"saketh\",\"samsung\",\"uma\",1];\n",
    "print(list1);\n",
    "list1[2]=15;# update the list item\n",
    "print(list2);\n",
    "del list1[3];# delete the list item\n",
    "print(list1);\n",
    "list1[1]=\"gitam\";\n",
    "print(list1);\n",
    "list2=[1,2,3];\n",
    "print(list2);\n",
    "print(list1+list2);#concation of both the lists"
   ]
  },
  {
   "cell_type": "code",
   "execution_count": 14,
   "metadata": {},
   "outputs": [
    {
     "data": {
      "text/plain": [
       "6"
      ]
     },
     "execution_count": 14,
     "metadata": {},
     "output_type": "execute_result"
    }
   ],
   "source": [
    "sum(list2)"
   ]
  },
  {
   "cell_type": "code",
   "execution_count": 17,
   "metadata": {},
   "outputs": [
    {
     "ename": "ValueError",
     "evalue": "'edward' is not in list",
     "output_type": "error",
     "traceback": [
      "\u001b[1;31m---------------------------------------------------------------------------\u001b[0m",
      "\u001b[1;31mValueError\u001b[0m                                Traceback (most recent call last)",
      "\u001b[1;32m<ipython-input-17-ebc4177a14db>\u001b[0m in \u001b[0;36m<module>\u001b[1;34m\u001b[0m\n\u001b[0;32m      1\u001b[0m \u001b[0mnames1\u001b[0m \u001b[1;33m=\u001b[0m \u001b[1;33m[\u001b[0m\u001b[1;34m'amir'\u001b[0m\u001b[1;33m,\u001b[0m\u001b[1;34m'barry'\u001b[0m\u001b[1;33m,\u001b[0m\u001b[1;34m'chales'\u001b[0m\u001b[1;33m,\u001b[0m\u001b[1;34m'dao'\u001b[0m\u001b[1;33m]\u001b[0m\u001b[1;33m\u001b[0m\u001b[1;33m\u001b[0m\u001b[0m\n\u001b[1;32m----> 2\u001b[1;33m \u001b[0mloc\u001b[0m \u001b[1;33m=\u001b[0m \u001b[0mnames1\u001b[0m\u001b[1;33m.\u001b[0m\u001b[0mindex\u001b[0m\u001b[1;33m(\u001b[0m\u001b[1;34m\"edward\"\u001b[0m\u001b[1;33m)\u001b[0m\u001b[1;33m\u001b[0m\u001b[1;33m\u001b[0m\u001b[0m\n\u001b[0m\u001b[0;32m      3\u001b[0m \u001b[0mprint\u001b[0m\u001b[1;33m(\u001b[0m\u001b[0mloc\u001b[0m\u001b[1;33m)\u001b[0m\u001b[1;33m\u001b[0m\u001b[1;33m\u001b[0m\u001b[0m\n",
      "\u001b[1;31mValueError\u001b[0m: 'edward' is not in list"
     ]
    }
   ],
   "source": [
    "names1 = ['amir','barry','chales','dao']\n",
    "loc = names1.index(\"edward\")\n",
    "print(loc)"
   ]
  },
  {
   "cell_type": "code",
   "execution_count": 20,
   "metadata": {},
   "outputs": [
    {
     "name": "stdout",
     "output_type": "stream",
     "text": [
      "5\n",
      "[1, 2, 3, 4, [5, 6, 7, 8]]\n"
     ]
    }
   ],
   "source": [
    "numbers=[1,2,3,4]\n",
    "numbers.append([5,6,7,8])\n",
    "print(len(numbers))\n",
    "print (numbers)"
   ]
  },
  {
   "cell_type": "code",
   "execution_count": 23,
   "metadata": {},
   "outputs": [
    {
     "name": "stdout",
     "output_type": "stream",
     "text": [
      "['gitam', 'python', 'raptor', 1, 5, 'python', 'python']\n",
      "7\n",
      "['gitam', 'python', 2019, 'raptor', 1, 5, 'python', 'python']\n",
      "8\n",
      "['gitam', 'python', 2019, 'raptor', 2020, 1, 5, 'python', 'python']\n"
     ]
    }
   ],
   "source": [
    "list1=[\"gitam\",\"python\",\"raptor\",1,5,\"python\",\"python\"]\n",
    "print(list1)\n",
    "list1.index(\"python\")#finding of index of object in the list\n",
    "list1.index(1)\n",
    "print(len(list1))\n",
    "list1.insert(2,2019)\n",
    "print(list1)\n",
    "print(len(list1))\n",
    "list1.insert(4,2020)\n",
    "print(list1)     "
   ]
  },
  {
   "cell_type": "markdown",
   "metadata": {},
   "source": [
    "## reverse the list"
   ]
  },
  {
   "cell_type": "code",
   "execution_count": 27,
   "metadata": {
    "scrolled": true
   },
   "outputs": [
    {
     "name": "stdout",
     "output_type": "stream",
     "text": [
      "['gitam', 'python', 'raptor', 1, 15, 'python', 'python']\n",
      "['gitam', 'raptor', 1, 15, 'python', 'python']\n",
      "['python', 15, 1, 'raptor', 'gitam']\n"
     ]
    }
   ],
   "source": [
    "list1=[\"gitam\",\"python\",\"raptor\",1,15,\"python\",\"python\"]\n",
    "print(list1)\n",
    "list1.remove(\"python\")\n",
    "print(list1)\n",
    "list1.remove(\"python\")\n",
    "list1.reverse()\n",
    "print(list1)"
   ]
  },
  {
   "cell_type": "markdown",
   "metadata": {},
   "source": [
    "## linear search"
   ]
  },
  {
   "cell_type": "code",
   "execution_count": 31,
   "metadata": {},
   "outputs": [
    {
     "name": "stdout",
     "output_type": "stream",
     "text": [
      "target item is found\n"
     ]
    }
   ],
   "source": [
    "def linearsearch(a,taritem):\n",
    "    flag=0;\n",
    "    for i in range(len(a)):\n",
    "        if a[i]==taritem:\n",
    "            flag=1;\n",
    "            break\n",
    "    if(flag!=0):\n",
    "        print(\"target item is found\")\n",
    "    else:\n",
    "        print(\"target item is not found\")\n",
    "a=[16,2,12,6,9,7,1]\n",
    "linearsearch(a,6)"
   ]
  },
  {
   "cell_type": "code",
   "execution_count": 8,
   "metadata": {},
   "outputs": [
    {
     "name": "stdout",
     "output_type": "stream",
     "text": [
      "2\n"
     ]
    }
   ],
   "source": [
    "def linearsearchduplicate(a,target):\n",
    "    flag=0\n",
    "    for i in range(len(a)):\n",
    "        if a[i] == target:\n",
    "            flag=flag+1\n",
    "            \n",
    "    print(flag);\n",
    "a=[9,1,6,1,5,9,15,16]\n",
    "linearsearchduplicate(a,1)"
   ]
  },
  {
   "cell_type": "markdown",
   "metadata": {},
   "source": [
    "## give input as a list and obtain output as index of target value"
   ]
  },
  {
   "cell_type": "code",
   "execution_count": 14,
   "metadata": {},
   "outputs": [
    {
     "name": "stdout",
     "output_type": "stream",
     "text": [
      "1\n",
      "4\n",
      "7\n"
     ]
    }
   ],
   "source": [
    "def linearexample(a,target):\n",
    "    flag=0\n",
    "    for i in range(len(a)):\n",
    "        if a[i] == target:\n",
    "            print(i);\n",
    "        \n",
    "          \n",
    "a=[1,5,9,6,5,15,12,5]\n",
    "linearexample(a,5)#1 4 7           "
   ]
  },
  {
   "cell_type": "markdown",
   "metadata": {},
   "source": [
    "## give a list as input and obtain output as sequence of characaters"
   ]
  },
  {
   "cell_type": "code",
   "execution_count": 19,
   "metadata": {
    "scrolled": true
   },
   "outputs": [
    {
     "name": "stdout",
     "output_type": "stream",
     "text": [
      "! ! \n",
      "! ! ! ! ! \n",
      "! ! ! ! ! ! ! ! \n"
     ]
    }
   ],
   "source": [
    "def linearexample2(a,target):\n",
    "    for i in range(len(a)):\n",
    "        if a[i] == target:\n",
    "            j=0;\n",
    "            while j!=i+1:\n",
    "                print(\"!\",end= \" \")\n",
    "                j=j+1;\n",
    "            print()\n",
    "        \n",
    "          \n",
    "a=[1,5,9,6,5,15,12,5]\n",
    "linearexample2(a,5)"
   ]
  },
  {
   "cell_type": "markdown",
   "metadata": {},
   "source": [
    "## give a list as input and obtain output as the sum of all list items which is perfect multiple of 3 &5"
   ]
  },
  {
   "cell_type": "code",
   "execution_count": 23,
   "metadata": {},
   "outputs": [
    {
     "name": "stdout",
     "output_type": "stream",
     "text": [
      "45\n"
     ]
    }
   ],
   "source": [
    "def linearexample3(a):\n",
    "    sum1=0\n",
    "    for i in range(len(a)):\n",
    "        if a[i]%3==0 and a[i]%5==0:\n",
    "            \n",
    "            sum1=sum1+a[i]\n",
    "    return sum1;\n",
    "a=[15,12,2,9,18,36,30]\n",
    "print(linearexample3(a))"
   ]
  },
  {
   "cell_type": "code",
   "execution_count": 37,
   "metadata": {},
   "outputs": [
    {
     "name": "stdout",
     "output_type": "stream",
     "text": [
      "1\n",
      "3\n",
      "8\n",
      "15\n",
      "5\n"
     ]
    }
   ],
   "source": [
    "def linearformattoutput(a):\n",
    "    mult=1\n",
    "    for i in range(len(a)):\n",
    "        if i == 0 or i == (len(a)-1):\n",
    "            print (a[i]);\n",
    "        else:\n",
    "            mult=a[i-1]*a[i+1];\n",
    "            print(mult);\n",
    "    \n",
    "    \n",
    "a=[1,2,3,4,5]\n",
    "linearformattoutput(a)                  "
   ]
  },
  {
   "cell_type": "code",
   "execution_count": 43,
   "metadata": {},
   "outputs": [
    {
     "name": "stdout",
     "output_type": "stream",
     "text": [
      "1\n",
      "18\n"
     ]
    }
   ],
   "source": [
    "def linearformattoutput(a):\n",
    "    for i in range(len(a)):\n",
    "        if i == 0 or i == (len(a)-1):\n",
    "            print (a[i])\n",
    "        else:\n",
    "            if a[i+1]%2==0 and a[i-1]%2==0:\n",
    "                print(a[i]);\n",
    "            \n",
    "a=[1,6,9,5,12,18]\n",
    "linearformattoutput(a)"
   ]
  },
  {
   "cell_type": "markdown",
   "metadata": {},
   "source": [
    "## number to list converstion"
   ]
  },
  {
   "cell_type": "code",
   "execution_count": 50,
   "metadata": {},
   "outputs": [
    {
     "name": "stdout",
     "output_type": "stream",
     "text": [
      "enter a number121345\n",
      "[1, 2, 1, 3, 4, 5]\n"
     ]
    }
   ],
   "source": [
    "def numbertolistconversion(n):\n",
    "    list=[]\n",
    "    while n!=0:\n",
    "        r=n%10\n",
    "        list.append(r)\n",
    "        n=n//10\n",
    "    list.reverse()\n",
    "    print(list)\n",
    "        \n",
    "n= int(input(\"enter a number\"))\n",
    "numbertolistconversion(n)    "
   ]
  },
  {
   "cell_type": "code",
   "execution_count": 52,
   "metadata": {},
   "outputs": [
    {
     "name": "stdout",
     "output_type": "stream",
     "text": [
      "1 4 5 6 9 "
     ]
    }
   ],
   "source": [
    "def numbertolistconversion(n):\n",
    "    for i in range(len(a)):\n",
    "        if i>=0:\n",
    "            print(a[i],end=\" \");\n",
    "a=[1,4,5,6,9]\n",
    "numbertolistconversion(a)"
   ]
  },
  {
   "cell_type": "code",
   "execution_count": 54,
   "metadata": {},
   "outputs": [
    {
     "name": "stdout",
     "output_type": "stream",
     "text": [
      "46"
     ]
    }
   ],
   "source": [
    "def numbertolistconversion2(n):\n",
    "    for i in range(len(a)):\n",
    "        if i%2!=0:\n",
    "            print(a[i],end=\"\");\n",
    "a=[1,4,5,6,9]\n",
    "numbertolistconversion2(a)"
   ]
  },
  {
   "cell_type": "code",
   "execution_count": 65,
   "metadata": {},
   "outputs": [
    {
     "data": {
      "text/plain": [
       "10"
      ]
     },
     "execution_count": 65,
     "metadata": {},
     "output_type": "execute_result"
    }
   ],
   "source": [
    "list=[1,2,3,4]\n",
    "sum(list)"
   ]
  },
  {
   "cell_type": "code",
   "execution_count": 67,
   "metadata": {},
   "outputs": [
    {
     "name": "stdout",
     "output_type": "stream",
     "text": [
      "1\n",
      "4\n",
      "3\n",
      "16\n",
      "5\n"
     ]
    }
   ],
   "source": [
    "def numbertolistconversion3(n):\n",
    "    list1=[]\n",
    "    i=0;\n",
    "    for i in range(len(a)):\n",
    "        if a[i]%2==0:\n",
    "            a[i]=a[i]**2;\n",
    "            print(a[i]);\n",
    "        else:\n",
    "            print(a[i]);\n",
    "a=[1,2,3,4,5]\n",
    "numbertolistconversion3(a)\n",
    "    "
   ]
  },
  {
   "cell_type": "code",
   "execution_count": null,
   "metadata": {},
   "outputs": [],
   "source": []
  }
 ],
 "metadata": {
  "kernelspec": {
   "display_name": "Python 3",
   "language": "python",
   "name": "python3"
  },
  "language_info": {
   "codemirror_mode": {
    "name": "ipython",
    "version": 3
   },
   "file_extension": ".py",
   "mimetype": "text/x-python",
   "name": "python",
   "nbconvert_exporter": "python",
   "pygments_lexer": "ipython3",
   "version": "3.7.3"
  }
 },
 "nbformat": 4,
 "nbformat_minor": 2
}
